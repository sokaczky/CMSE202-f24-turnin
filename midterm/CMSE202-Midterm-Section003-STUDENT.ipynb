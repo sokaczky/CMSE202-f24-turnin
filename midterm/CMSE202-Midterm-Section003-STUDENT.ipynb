{
 "cells": [
  {
   "cell_type": "markdown",
   "id": "3def3efc",
   "metadata": {
    "tags": []
   },
   "source": [
    "# CMSE 202 Midterm (Section 003 - Fall 2024)\n",
    "\n",
    "The goal of this midterm is to give you the opportunity to test out some of the skills that you've developed thus far this semester. In particular, you'll practice setting up a GitHub repository, committing and pushing repository changes, downloading data with command line tools, performing some data analysis, possibly using a new Python package, and writing a python class. You should find that you have all of the skills necessary to complete this exam with even just eight weeks of CMSE 202 under your belt!\n",
    "\n",
    "You are encouraged to look through the entire exam before you get started so that you can appropriately budget your time and understand the broad goals of the exam. Once you've read through it, try doing Parts 0 and 1 first so that you have your repository set up and you download all necessary data files as they will be necessary to complete the assigned tasks. Let your instructor know right away if you have problems downloading the data!\n",
    "\n",
    "The exam is set up so that even if you get stuck on one part there are opportunities to get points on the other parts, so consider jumping ahead if you feel like you aren't making progress and then come back later if you have time. If you have any questions during the exam, you may ask the instructor, the TA, or the LA privately: simply raise your hand and one of us will come over to you. \n",
    "\n",
    "\n",
    "**Important note about using online resources**: This exam is \"open internet\". That means that you can look up documentation, google how to accomplish certain Python tasks, etc. Being able to effectively use the internet for computational modeling and data science is a very important skill, so we want to make sure you have the opportunity to exercise that skill. **However: The use of any person-to-person communication software or generative AI tools is absolutely not acceptable.** If you are seen accessing your email, using a collaborative cloud storage or document software (e.g. Slack, Google Documents), or generative AIs (e.g. ChatGPT), you will be at risk for receiving a zero on the exam, and triggering an Academic Dishonesty Report (ADR). \n",
    "\n",
    "**Keep your eyes on your screen!** Unfortunately, there isn't enough space in the room for everyone to sit at their own table so please do your best to keep your eyes on your own screen. This exam is designed to give *you* the opportunity to show the instructor what you can do and you should hold yourself accountable for maintaining a high level of academic integrity. If any of the instructors observe suspicious behavior, you will, again, risk receiving a zero, and prompting an ADR for the incident. "
   ]
  },
  {
   "cell_type": "markdown",
   "id": "6b0b3d3a",
   "metadata": {},
   "source": [
    "---\n",
    "## Part 0: Academic integrity statement\n",
    "\n",
    "Read the following statement and edit the markdown text to put your name in the statement. This is your commitment to doing your own authentic work on this exam."
   ]
  },
  {
   "cell_type": "markdown",
   "id": "8e3dc4df",
   "metadata": {
    "pycharm": {
     "name": "#%% md\n"
    }
   },
   "source": [
    "> I, **Kylee Sokacz**, affirm that this exam represents my own authetic work, without the use of any unpermitted aids or generative AIs or person-to-person communication. I understand that this exam an an opportunity to showcase my own progress in developing and improving my computational skills and have done my best to demonstrate those skills."
   ]
  },
  {
   "cell_type": "markdown",
   "id": "435ee396",
   "metadata": {
    "tags": []
   },
   "source": [
    "## Part 1: Add to your Git repository to track your progress on your exam (12 points total)\n",
    "\n",
    "Before you get to far along in the exam, you're going to add it to the `cmse202-f24-turnin` repository you created in class (or in Homework 1) so that you can track your progress on the exam and preserve the final version that you turn in. In order to do this you need to\n",
    "\n",
    "1. Navigate to your `cmse202-f24-turnin` repository and create a new directory called `midterm`.\n",
    "2. Move this notebook into that **new directory** in your repository, then **add it and commit it to your repository**.\n",
    "3. Finally, to test that everything is working, \"git push\" the file so that it ends up in your GitHub repository.\n",
    "\n",
    "**Important**: Double check you've added your Professor and your TA as collaborators to your \"turnin\" respository (you should have done this in the previous homework assignment).\n",
    "\n",
    "**Important**: Make sure that the version of this notebook that you are working on is the same one that you just added to your repository! If you are working on a different copy of the noteobok, **none of your changes will be tracked**!\n",
    "\n",
    "The file should now show up on your GitHub account in the `cmse202-f24-turnin` repository inside the `midterm` directory you just created.  Periodically, **you'll be asked to commit your changes to the repository and push them to the remote GitHub location**. It can be good to get into a habit of committing your changes any time you make a significant modification."
   ]
  },
  {
   "cell_type": "markdown",
   "id": "290bab71",
   "metadata": {},
   "source": [
    "&#9989; **Question 1.1 Put all the Git commands you used to add your midterm folder and file to your GitHub repository (4 points)**:"
   ]
  },
  {
   "cell_type": "markdown",
   "id": "3206fcd3-b247-4666-9d71-22205240782f",
   "metadata": {},
   "source": [
    "### Put your code here:\n",
    "ls, cd CMSE202, cd repositories, cd CMSE202-f24-turnin, git add ., git commit, git push\n"
   ]
  },
  {
   "cell_type": "markdown",
   "id": "7a41a280",
   "metadata": {},
   "source": [
    "### ANSWER ###\n",
    "\n"
   ]
  },
  {
   "cell_type": "markdown",
   "id": "903ce347",
   "metadata": {},
   "source": [
    "&#9989; **Question 1.2 Put the code the instructor will need to clone your repository here (2 points)**:\n"
   ]
  },
  {
   "cell_type": "markdown",
   "id": "2cbdf54f-fb2c-45fc-b652-dd6b138a6e49",
   "metadata": {},
   "source": [
    "### Put your code here:\n",
    "git clone https://github.com/sokaczky/CMSE202-f24-turnin.git\n"
   ]
  },
  {
   "cell_type": "markdown",
   "id": "8239c731",
   "metadata": {},
   "source": [
    "&#9989; **Question 1.3 Explain why it could be useful to create a branch in Git. (2 points)**:\n"
   ]
  },
  {
   "cell_type": "markdown",
   "id": "5eb98eeb-8a54-41a2-91f0-56d18ad55139",
   "metadata": {},
   "source": [
    "Creating a new branch is helpful when working with other people so that code can be made and changed and it will not impact other peoples work and progress. \n",
    "\n",
    "Accessed https://docs.github.com/en/pull-requests/collaborating-with-pull-requests/proposing-changes-to-your-work-with-pull-requests/about-branches on 10/15"
   ]
  },
  {
   "cell_type": "markdown",
   "id": "39b5c084",
   "metadata": {},
   "source": [
    "After completing each of Part 2, Part 3, Part 4, and Part 5 below, save your notebook, commit the changes to your Git repository using a descriptive commit message, and push the changes to GitHub. Note that there are large &#128721; **STOP** signs reminding you to do this after each part."
   ]
  },
  {
   "cell_type": "markdown",
   "id": "2a33af2b",
   "metadata": {},
   "source": [
    "## Part 2: Downloading and analyzing unfamiliar data (13 points)\n",
    "\n"
   ]
  },
  {
   "cell_type": "markdown",
   "id": "fdbaac8f",
   "metadata": {},
   "source": [
    "&#9989; **Question 2.1 Read in the \"cps_data_Sep2024.csv\" data file and then display the first ten rows of the dataset. (3 points)**:\n"
   ]
  },
  {
   "cell_type": "code",
   "execution_count": 9,
   "id": "acd32e74",
   "metadata": {
    "tags": []
   },
   "outputs": [
    {
     "data": {
      "text/html": [
       "<div>\n",
       "<style scoped>\n",
       "    .dataframe tbody tr th:only-of-type {\n",
       "        vertical-align: middle;\n",
       "    }\n",
       "\n",
       "    .dataframe tbody tr th {\n",
       "        vertical-align: top;\n",
       "    }\n",
       "\n",
       "    .dataframe thead th {\n",
       "        text-align: right;\n",
       "    }\n",
       "</style>\n",
       "<table border=\"1\" class=\"dataframe\">\n",
       "  <thead>\n",
       "    <tr style=\"text-align: right;\">\n",
       "      <th></th>\n",
       "      <th>houseID</th>\n",
       "      <th>CATI_or_CAPI</th>\n",
       "      <th>month</th>\n",
       "      <th>year</th>\n",
       "      <th>residene_type</th>\n",
       "      <th>family_income</th>\n",
       "      <th>occupants_num</th>\n",
       "      <th>interview_type</th>\n",
       "      <th>region</th>\n",
       "      <th>division</th>\n",
       "      <th>state</th>\n",
       "      <th>age</th>\n",
       "      <th>sex</th>\n",
       "      <th>highest_education</th>\n",
       "      <th>race</th>\n",
       "      <th>Hispanic</th>\n",
       "      <th>Hispanic_origin_group</th>\n",
       "    </tr>\n",
       "  </thead>\n",
       "  <tbody>\n",
       "    <tr>\n",
       "      <th>0</th>\n",
       "      <td>17011</td>\n",
       "      <td>201</td>\n",
       "      <td>9</td>\n",
       "      <td>2024</td>\n",
       "      <td>1</td>\n",
       "      <td>125000</td>\n",
       "      <td>2</td>\n",
       "      <td>2</td>\n",
       "      <td>3</td>\n",
       "      <td>6</td>\n",
       "      <td>1</td>\n",
       "      <td>55</td>\n",
       "      <td>Male</td>\n",
       "      <td>43</td>\n",
       "      <td>1</td>\n",
       "      <td>2</td>\n",
       "      <td>-1</td>\n",
       "    </tr>\n",
       "    <tr>\n",
       "      <th>1</th>\n",
       "      <td>17011</td>\n",
       "      <td>201</td>\n",
       "      <td>9</td>\n",
       "      <td>2024</td>\n",
       "      <td>1</td>\n",
       "      <td>125000</td>\n",
       "      <td>2</td>\n",
       "      <td>2</td>\n",
       "      <td>3</td>\n",
       "      <td>6</td>\n",
       "      <td>1</td>\n",
       "      <td>57</td>\n",
       "      <td>Female</td>\n",
       "      <td>43</td>\n",
       "      <td>1</td>\n",
       "      <td>2</td>\n",
       "      <td>-1</td>\n",
       "    </tr>\n",
       "    <tr>\n",
       "      <th>2</th>\n",
       "      <td>16011</td>\n",
       "      <td>201</td>\n",
       "      <td>9</td>\n",
       "      <td>2024</td>\n",
       "      <td>1</td>\n",
       "      <td>125000</td>\n",
       "      <td>2</td>\n",
       "      <td>1</td>\n",
       "      <td>3</td>\n",
       "      <td>6</td>\n",
       "      <td>1</td>\n",
       "      <td>85</td>\n",
       "      <td>Male</td>\n",
       "      <td>39</td>\n",
       "      <td>1</td>\n",
       "      <td>2</td>\n",
       "      <td>-1</td>\n",
       "    </tr>\n",
       "    <tr>\n",
       "      <th>3</th>\n",
       "      <td>16011</td>\n",
       "      <td>201</td>\n",
       "      <td>9</td>\n",
       "      <td>2024</td>\n",
       "      <td>1</td>\n",
       "      <td>125000</td>\n",
       "      <td>2</td>\n",
       "      <td>1</td>\n",
       "      <td>3</td>\n",
       "      <td>6</td>\n",
       "      <td>1</td>\n",
       "      <td>85</td>\n",
       "      <td>Female</td>\n",
       "      <td>39</td>\n",
       "      <td>1</td>\n",
       "      <td>2</td>\n",
       "      <td>-1</td>\n",
       "    </tr>\n",
       "    <tr>\n",
       "      <th>4</th>\n",
       "      <td>16011</td>\n",
       "      <td>201</td>\n",
       "      <td>9</td>\n",
       "      <td>2024</td>\n",
       "      <td>1</td>\n",
       "      <td>125000</td>\n",
       "      <td>1</td>\n",
       "      <td>2</td>\n",
       "      <td>3</td>\n",
       "      <td>6</td>\n",
       "      <td>1</td>\n",
       "      <td>85</td>\n",
       "      <td>Female</td>\n",
       "      <td>39</td>\n",
       "      <td>1</td>\n",
       "      <td>2</td>\n",
       "      <td>-1</td>\n",
       "    </tr>\n",
       "    <tr>\n",
       "      <th>5</th>\n",
       "      <td>16011</td>\n",
       "      <td>201</td>\n",
       "      <td>9</td>\n",
       "      <td>2024</td>\n",
       "      <td>1</td>\n",
       "      <td>17000</td>\n",
       "      <td>1</td>\n",
       "      <td>1</td>\n",
       "      <td>3</td>\n",
       "      <td>6</td>\n",
       "      <td>1</td>\n",
       "      <td>70</td>\n",
       "      <td>Male</td>\n",
       "      <td>39</td>\n",
       "      <td>1</td>\n",
       "      <td>2</td>\n",
       "      <td>-1</td>\n",
       "    </tr>\n",
       "    <tr>\n",
       "      <th>6</th>\n",
       "      <td>16011</td>\n",
       "      <td>201</td>\n",
       "      <td>9</td>\n",
       "      <td>2024</td>\n",
       "      <td>1</td>\n",
       "      <td>67000</td>\n",
       "      <td>2</td>\n",
       "      <td>2</td>\n",
       "      <td>3</td>\n",
       "      <td>6</td>\n",
       "      <td>1</td>\n",
       "      <td>76</td>\n",
       "      <td>Male</td>\n",
       "      <td>44</td>\n",
       "      <td>1</td>\n",
       "      <td>2</td>\n",
       "      <td>-1</td>\n",
       "    </tr>\n",
       "    <tr>\n",
       "      <th>7</th>\n",
       "      <td>16011</td>\n",
       "      <td>201</td>\n",
       "      <td>9</td>\n",
       "      <td>2024</td>\n",
       "      <td>1</td>\n",
       "      <td>67000</td>\n",
       "      <td>2</td>\n",
       "      <td>2</td>\n",
       "      <td>3</td>\n",
       "      <td>6</td>\n",
       "      <td>1</td>\n",
       "      <td>73</td>\n",
       "      <td>Female</td>\n",
       "      <td>44</td>\n",
       "      <td>1</td>\n",
       "      <td>2</td>\n",
       "      <td>-1</td>\n",
       "    </tr>\n",
       "    <tr>\n",
       "      <th>8</th>\n",
       "      <td>16011</td>\n",
       "      <td>201</td>\n",
       "      <td>9</td>\n",
       "      <td>2024</td>\n",
       "      <td>1</td>\n",
       "      <td>125000</td>\n",
       "      <td>4</td>\n",
       "      <td>2</td>\n",
       "      <td>3</td>\n",
       "      <td>6</td>\n",
       "      <td>1</td>\n",
       "      <td>52</td>\n",
       "      <td>Female</td>\n",
       "      <td>43</td>\n",
       "      <td>1</td>\n",
       "      <td>2</td>\n",
       "      <td>-1</td>\n",
       "    </tr>\n",
       "    <tr>\n",
       "      <th>9</th>\n",
       "      <td>16011</td>\n",
       "      <td>201</td>\n",
       "      <td>9</td>\n",
       "      <td>2024</td>\n",
       "      <td>1</td>\n",
       "      <td>125000</td>\n",
       "      <td>4</td>\n",
       "      <td>2</td>\n",
       "      <td>3</td>\n",
       "      <td>6</td>\n",
       "      <td>1</td>\n",
       "      <td>54</td>\n",
       "      <td>Male</td>\n",
       "      <td>40</td>\n",
       "      <td>1</td>\n",
       "      <td>2</td>\n",
       "      <td>-1</td>\n",
       "    </tr>\n",
       "  </tbody>\n",
       "</table>\n",
       "</div>"
      ],
      "text/plain": [
       "   houseID  CATI_or_CAPI  month  year  residene_type  family_income  \\\n",
       "0    17011           201      9  2024              1         125000   \n",
       "1    17011           201      9  2024              1         125000   \n",
       "2    16011           201      9  2024              1         125000   \n",
       "3    16011           201      9  2024              1         125000   \n",
       "4    16011           201      9  2024              1         125000   \n",
       "5    16011           201      9  2024              1          17000   \n",
       "6    16011           201      9  2024              1          67000   \n",
       "7    16011           201      9  2024              1          67000   \n",
       "8    16011           201      9  2024              1         125000   \n",
       "9    16011           201      9  2024              1         125000   \n",
       "\n",
       "   occupants_num  interview_type  region  division  state  age     sex  \\\n",
       "0              2               2       3         6      1   55    Male   \n",
       "1              2               2       3         6      1   57  Female   \n",
       "2              2               1       3         6      1   85    Male   \n",
       "3              2               1       3         6      1   85  Female   \n",
       "4              1               2       3         6      1   85  Female   \n",
       "5              1               1       3         6      1   70    Male   \n",
       "6              2               2       3         6      1   76    Male   \n",
       "7              2               2       3         6      1   73  Female   \n",
       "8              4               2       3         6      1   52  Female   \n",
       "9              4               2       3         6      1   54    Male   \n",
       "\n",
       "   highest_education  race  Hispanic  Hispanic_origin_group  \n",
       "0                 43     1         2                     -1  \n",
       "1                 43     1         2                     -1  \n",
       "2                 39     1         2                     -1  \n",
       "3                 39     1         2                     -1  \n",
       "4                 39     1         2                     -1  \n",
       "5                 39     1         2                     -1  \n",
       "6                 44     1         2                     -1  \n",
       "7                 44     1         2                     -1  \n",
       "8                 43     1         2                     -1  \n",
       "9                 40     1         2                     -1  "
      ]
     },
     "execution_count": 9,
     "metadata": {},
     "output_type": "execute_result"
    }
   ],
   "source": [
    "### Put your code here:\n",
    "import pandas as pd\n",
    "df = pd.read_csv(\"cps_data_Sep2024.csv\")\n",
    "df.head(10)\n"
   ]
  },
  {
   "cell_type": "markdown",
   "id": "5c1ff7ba",
   "metadata": {},
   "source": [
    "&#9989; **Question 2.2 Compute and report the max, min, and mean values for the \"family_income\" and \"occupants_num\" features (2 points)**: \n",
    "\n"
   ]
  },
  {
   "cell_type": "code",
   "execution_count": 18,
   "id": "0eabef99",
   "metadata": {
    "tags": []
   },
   "outputs": [
    {
     "name": "stdout",
     "output_type": "stream",
     "text": [
      "Family_income Information:\n",
      "Max: 150000 \n",
      "Min: 2500 \n",
      "Mean 85323.45947126408 \n",
      "Occupants_num Information:\n",
      "Max: 14 \n",
      "Min: 1 \n",
      "Mean: 2.9036312679713188\n"
     ]
    }
   ],
   "source": [
    "### Put your code here:\n",
    "maxincome = df[\"family_income\"].max()\n",
    "minincome = df[\"family_income\"].min()\n",
    "meanincome = df[\"family_income\"].mean()\n",
    "maxnum = df[\"occupants_num\"].max()\n",
    "minnum = df[\"occupants_num\"].min()\n",
    "meannum = df[\"occupants_num\"].mean()\n",
    "print(\"Family_income Information:\\nMax:\", maxincome, \"\\nMin:\", minincome, \"\\nMean\", \n",
    "      meanincome, \"\\nOccupants_num Information:\\nMax:\", maxnum, \"\\nMin:\", minnum, \"\\nMean:\", meannum)\n",
    "\n",
    "#checking my answers with df. describe df.describe()\n"
   ]
  },
  {
   "cell_type": "markdown",
   "id": "d86e79ad",
   "metadata": {},
   "source": [
    "&#9989; **Question 2.3 use a function to determine the total number of rows in the data set.  (2 points)**: \n",
    "\n"
   ]
  },
  {
   "cell_type": "code",
   "execution_count": 21,
   "id": "7fa9bffb",
   "metadata": {
    "tags": []
   },
   "outputs": [
    {
     "name": "stdout",
     "output_type": "stream",
     "text": [
      "82423\n"
     ]
    }
   ],
   "source": [
    "### Put your code here:\n",
    "rows = len(df)\n",
    "print(rows)\n",
    "\n",
    "#Used https://saturncloud.io/blog/5-easy-ways-to-get-pandas-dataframe-row-count/#:~:text=The%20simplest%20and%20most%20straightforward,of%20rows%20in%20the%20DataFrame.\n",
    "#on 10/15 to find function to count number of rows in dataframe. "
   ]
  },
  {
   "cell_type": "markdown",
   "id": "2e90d1bd",
   "metadata": {},
   "source": [
    "&#9989; **Question 2.4 Create a new dataframe that contains only rows that correspond to data collected in Michigan. Make sure to examine the file data_index.txt for how the states are coded. How many rows are in this new dataframe? (2 points)**: \n",
    "\n"
   ]
  },
  {
   "cell_type": "code",
   "execution_count": 34,
   "id": "b777a6af",
   "metadata": {
    "tags": []
   },
   "outputs": [
    {
     "name": "stdout",
     "output_type": "stream",
     "text": [
      "1795\n"
     ]
    }
   ],
   "source": [
    "### Put your code here\n",
    "midf = df.loc[df['state'] == 26]\n",
    "#midf.head()\n",
    "length = len(midf)\n",
    "print(length)"
   ]
  },
  {
   "cell_type": "markdown",
   "id": "322f493d-b843-44da-b41d-62e2357d21ec",
   "metadata": {},
   "source": [
    "> 1795 rows"
   ]
  },
  {
   "cell_type": "markdown",
   "id": "42fe8ccb",
   "metadata": {},
   "source": [
    "&#9989; **Question 2.5 Create a histogram plot of family_income using the new dataframe you created in the last question. Be sure to include all appropriate labels. (2 points)**: \n"
   ]
  },
  {
   "cell_type": "code",
   "execution_count": 50,
   "id": "97b35785",
   "metadata": {
    "tags": []
   },
   "outputs": [
    {
     "data": {
      "image/png": "[encoded data removed]",
      "text/plain": [
       "<Figure size 640x480 with 1 Axes>"
      ]
     },
     "metadata": {},
     "output_type": "display_data"
    }
   ],
   "source": [
    "### Put your code here\n",
    "import matplotlib.pyplot as plt\n",
    "plt.hist(midf['family_income'])\n",
    "plt.xlabel(\"family_income\")\n",
    "plt.ylabel(\"Frequency\")\n",
    "plt.title(\"Distribution of family income\")\n",
    "plt.show()"
   ]
  },
  {
   "cell_type": "markdown",
   "id": "9732c055",
   "metadata": {},
   "source": [
    "&#9989; **Question 2.6 Record any observations from the plot above.  (2 points)**: \n"
   ]
  },
  {
   "cell_type": "markdown",
   "id": "b100ca10-838d-41b8-80b2-d8f67dc9624a",
   "metadata": {},
   "source": [
    "In general, there is a higher distribution of higher income than there is of lower income, with the acception being incomes around $40,000. This means more people likely have higher incomes. \n",
    "\n"
   ]
  },
  {
   "cell_type": "markdown",
   "id": "c7fb929b",
   "metadata": {
    "jp-MarkdownHeadingCollapsed": true,
    "tags": []
   },
   "source": [
    "---\n",
    "### &#128721; STOP (1 point)\n",
    "**Pause to commit your changes to your Git repository!**\n",
    "\n",
    "Take a moment to save your notebook, commit  and push the changes to your Git repository.\n",
    "\n",
    "---"
   ]
  },
  {
   "cell_type": "markdown",
   "id": "73b28e5a",
   "metadata": {
    "tags": []
   },
   "source": [
    "## Part 3: Working with a new Python package. (8 points)\n",
    "\n",
    "In this section, we will be working with a new Python package called NLTK for natural language processing. This section will focus on your ability to explore and utilize documentation for a Python package you might not be familiar with. You can find the documentation here: https://www.nltk.org/"
   ]
  },
  {
   "cell_type": "markdown",
   "id": "fac01f60",
   "metadata": {},
   "source": [
    "&#9989; **Question 3.1 Use pip install to install NLTK, the natural language toolkit. Include the code you used to install it here. Remember to include the --user flag if using JupyterHub. If you already have NLTK installed, indicate the code you would use to install it. (2 points):** "
   ]
  },
  {
   "cell_type": "markdown",
   "id": "c05f0fa1-eafe-465e-9626-0306c5ac3dfd",
   "metadata": {},
   "source": [
    "# Put your code here\n",
    "pip install NLTK\n"
   ]
  },
  {
   "cell_type": "markdown",
   "id": "6890c0b6",
   "metadata": {},
   "source": [
    "&#9989; **Question 3.2 Following the documentation, import the NLTK library. (2 points):** \n"
   ]
  },
  {
   "cell_type": "code",
   "execution_count": 69,
   "id": "8901b66f",
   "metadata": {
    "tags": []
   },
   "outputs": [
    {
     "name": "stderr",
     "output_type": "stream",
     "text": [
      "[nltk_data] Downloading package punkt_tab to\n",
      "[nltk_data]     /Users/kyleeskutar/nltk_data...\n",
      "[nltk_data]   Package punkt_tab is already up-to-date!\n",
      "[nltk_data] Downloading package punkt to\n",
      "[nltk_data]     /Users/kyleeskutar/nltk_data...\n",
      "[nltk_data]   Package punkt is already up-to-date!\n"
     ]
    },
    {
     "data": {
      "text/plain": [
       "True"
      ]
     },
     "execution_count": 69,
     "metadata": {},
     "output_type": "execute_result"
    }
   ],
   "source": [
    "# Put your code here\n",
    "# <---------------------------- Import nltk here\n",
    "import nltk\n",
    "\n",
    "nltk.download('punkt_tab')  # do not delete this line. This must be run\n",
    "nltk.download('punkt')\n",
    "\n",
    "\n"
   ]
  },
  {
   "cell_type": "markdown",
   "id": "caa1c580",
   "metadata": {},
   "source": [
    "&#9989; **Question 3.3 Now use nltk to **tokenize by sentence** the following paragraph, i.e., split the paragraph into separate sentences.  (2 points):** \n"
   ]
  },
  {
   "cell_type": "code",
   "execution_count": 71,
   "id": "54e8f1aa",
   "metadata": {
    "tags": []
   },
   "outputs": [
    {
     "name": "stdout",
     "output_type": "stream",
     "text": [
      "['Long ago, the four nations lived together in harmony.', 'Then, everything changed when the Fire Nation attacked.', 'Only the Avatar, master of all four elements, could stop them, but when the world needed him most, he vanished.', \"A hundred years passed and my brother and I discovered the new Avatar, an airbender named Aang, and although his airbending skills are great, he has a lot to learn before he's ready to save anyone.\", 'But I believe Aang can save the world.']\n"
     ]
    }
   ],
   "source": [
    "# Put your code here\n",
    "from nltk.tokenize import sent_tokenize\n",
    "paragraph = \"Long ago, the four nations lived together in harmony. Then, everything changed when the Fire Nation attacked. Only the Avatar, master of all four elements, could stop them, but when the world needed him most, he vanished. A hundred years passed and my brother and I discovered the new Avatar, an airbender named Aang, and although his airbending skills are great, he has a lot to learn before he's ready to save anyone. But I believe Aang can save the world.\"\n",
    "print(sent_tokenize(paragraph))"
   ]
  },
  {
   "cell_type": "markdown",
   "id": "2de2cb11-734d-4b0a-8f8d-aea23a2fde28",
   "metadata": {},
   "source": [
    "Used https://www.holisticseo.digital/python-seo/nltk/tokenization to research tokenization and the nltk package on 10/15. "
   ]
  },
  {
   "cell_type": "markdown",
   "id": "d381baf7",
   "metadata": {
    "jp-MarkdownHeadingCollapsed": true,
    "tags": []
   },
   "source": [
    "---\n",
    "### &#128721; STOP (1 point)\n",
    "**Pause to commit your changes to your Git repository!**\n",
    "\n",
    "Take a moment to save your notebook, commit  and push the changes to your Git repository.\n",
    "\n",
    "---"
   ]
  },
  {
   "cell_type": "markdown",
   "id": "07d450c5",
   "metadata": {},
   "source": [
    "## Part 4: Writing a simple Python class (9 points)"
   ]
  },
  {
   "cell_type": "markdown",
   "id": "8c264b75",
   "metadata": {},
   "source": [
    "&#9989; **Question 4.1 In this part we will create a simple equilateral polygon class called `SimplePolygon` from a polygon super class `Polygon`. We will use these later to plot a hexagonal tiling, i.e., several hexagons side by side. (5 points):** \n",
    "\n",
    "Use the starter code below and the associated docstring to finish coding the `__init__()` function for the `SimplePolygon` class, which inherits the `Polygon` class.\n"
   ]
  },
  {
   "cell_type": "code",
   "execution_count": 163,
   "id": "c31f192f",
   "metadata": {
    "tags": []
   },
   "outputs": [],
   "source": [
    "# write your answer in this cell\n",
    "\n",
    "import numpy as np\n",
    "import matplotlib.pyplot as plt\n",
    "from matplotlib.patches import RegularPolygon\n",
    "\n",
    "class Polygon:\n",
    "    \"\"\"\n",
    "    A class to represent a polygon.\n",
    "\n",
    "    ...\n",
    "\n",
    "    Attributes\n",
    "    ----------\n",
    "    center : 2-tuple\n",
    "        The polygon's center (xc,yc)\n",
    "    sides_num : int\n",
    "        Number of the sides in the polygon. \n",
    "\n",
    "    Methods\n",
    "    -------\n",
    "    __init()__    \n",
    "    \n",
    "    \"\"\"    \n",
    "    \n",
    "    def __init__(self,center,sides_num):\n",
    "        self.center = center\n",
    "        self.sides_num = sides_num\n",
    "\n",
    "\n",
    "class SimplePolygon(Polygon):\n",
    "    \"\"\"\n",
    "    SimplePolygon class, child of Polygon.\n",
    "    A class to represent a simple, regular polygon with equilateral sides, and equal angles.\n",
    "\n",
    "    ...\n",
    "\n",
    "    Attributes\n",
    "    ----------\n",
    "    center : 2-tuple\n",
    "        The polygon's center (xc,yc)\n",
    "    sides_num : int\n",
    "        Number of the sides in the polygon. \n",
    "    angle : float\n",
    "        The angle of the polygon obtained in radians according to angle = (sides_num-2)/sides_num*np.pi\n",
    "    side_length : float\n",
    "        side length\n",
    "\n",
    "    Methods\n",
    "    -------\n",
    "    __init()__    \n",
    "    draw_self()\n",
    "    \n",
    "    \"\"\"   \n",
    "    def __init__(self,center, sides_num, side_length):\n",
    "        self.center = center\n",
    "        self.sides_num = sides_num\n",
    "        self.polygon = Polygon(center, sides_num)\n",
    "        # self.center = center\n",
    "        # self.sides_num = sides_num\n",
    "        angle = (sides_num-2) / sides_num * np.pi\n",
    "        self.side_length = side_length\n",
    "        \n",
    "\n",
    "    def draw_self(self,ax,show=False):\n",
    "        \"\"\"\n",
    "        Draw the simple polygon object.\n",
    "\n",
    "        ...\n",
    "\n",
    "        Parameters\n",
    "        ----------\n",
    "        ax : axes to a Matplotlib figure\n",
    "        \n",
    "        show : boolean\n",
    "            A flag that plots the polgyon when set to true. Otherwise, it returns the axes.\n",
    "\n",
    "        Returns\n",
    "        -------\n",
    "        Matplotlib axes ax\n",
    "        \n",
    "        \"\"\"   \n",
    "        polygon_plot = RegularPolygon(self.center, numVertices=self.sides_num, radius=self.side_length/(2*np.tan(np.pi/self.sides_num)), alpha=0.2, edgecolor='k')\n",
    "        ax.add_patch(polygon_plot)\n",
    "\n",
    "        return polygon_plot"
   ]
  },
  {
   "cell_type": "markdown",
   "id": "cf47f90d",
   "metadata": {},
   "source": [
    "&#9989; **Question 4.2 Now create a `SimplePolygon` object centered at (0,0), with six sides (so a hexagon), and with side length 2. Then use the `SimplePolygon` `draw_me()` method to draw the hexagon. (4 points):** \n"
   ]
  },
  {
   "cell_type": "code",
   "execution_count": 176,
   "id": "3506a66d",
   "metadata": {
    "tags": []
   },
   "outputs": [
    {
     "data": {
      "text/plain": [
       "[]"
      ]
     },
     "execution_count": 176,
     "metadata": {},
     "output_type": "execute_result"
    },
    {
     "data": {
      "image/png": "[encoded data removed]",
      "text/plain": [
       "<Figure size 640x480 with 1 Axes>"
      ]
     },
     "metadata": {},
     "output_type": "display_data"
    }
   ],
   "source": [
    "### Put your code here\n",
    "\n",
    "\n",
    "# construct a simple polygon object\n",
    "# poly = [(0,0), (1,-1), (1,1), (0,-1), (0,1), (-1,1), (-1,-1)]\n",
    "#poly = Polygon((0,0), 6)\n",
    "\n",
    "center = (0,0)\n",
    "\n",
    "# # draw the polygon\n",
    "#poly = np.array([[0,0],[1,-1],[1,1],[0,-1],[0,1],[-1,1],[-1,-1]])\n",
    "\n",
    "draw = SimplePolygon(center, 6, 2)\n",
    "\n",
    "# fig = plt.figure()\n",
    "# axes = fig.add_axes(range(0,4)) \n",
    "fig,ax = plt.subplots()\n",
    "\n",
    "draw.draw_self(ax, show= True)\n",
    "ax.plot()\n",
    "\n"
   ]
  },
  {
   "cell_type": "markdown",
   "id": "e4ad07b5",
   "metadata": {},
   "source": [
    "&#9989; **Question 4.3 Now create a list of nx=6 hexagons as objects of the `SimplePolygon` with the given x,y as centers and plot the resulting tiling. (5 points):** "
   ]
  },
  {
   "cell_type": "code",
   "execution_count": 215,
   "id": "9b5e2839",
   "metadata": {
    "tags": []
   },
   "outputs": [
    {
     "data": {
      "text/plain": [
       "[]"
      ]
     },
     "execution_count": 215,
     "metadata": {},
     "output_type": "execute_result"
    },
    {
     "data": {
      "image/png": "[encoded data removed]",
      "text/plain": [
       "<Figure size 640x480 with 1 Axes>"
      ]
     },
     "metadata": {},
     "output_type": "display_data"
    }
   ],
   "source": [
    "### put your answer here\n",
    "\n",
    "\n",
    "# The distances between two centers along x are given by offset_x\n",
    "nx = 6  # number of hexagons in the tiling\n",
    "s = 2  # side length\n",
    "n = 6  # number of sides for the hexagon\n",
    "offset_x =   s/(np.tan(np.pi/n))  # x-offset between centers from hexagon geometry\n",
    "\n",
    "# Get the vector of coordinates in x and y\n",
    "x = offset_x * range(0,nx)\n",
    "y = np.zeros(len(x))\n",
    "\n",
    "# create a figure\n",
    "fig, ax = plt.subplots(1)\n",
    "ax.set_aspect('equal')\n",
    "\n",
    "# Define and plot the hexagonal tiling\n",
    "# plt.hexbin(x,y, alpha=0.2)\n",
    "# nx=1\n",
    "# for i in range(6):\n",
    "#     x = offset_x * range(0,nx)\n",
    "#     y = np.zeros(len(x))\n",
    "#     draw.draw_self(ax, show= True)\n",
    "#     ax.plot(x,y)\n",
    "#     nx+=1\n",
    "#draw.draw_self(ax, show= True)\n",
    "\n",
    "\n",
    "\n",
    "\n",
    "center = (x[0],y[0])\n",
    "draw = SimplePolygon(center, 6, 2)\n",
    "draw.draw_self(ax, show= True)\n",
    "ax.plot()\n",
    "center = (x[1], y[1])\n",
    "draw = SimplePolygon(center, 6, 2)\n",
    "draw.draw_self(ax, show= True)\n",
    "ax.plot()\n",
    "center = (x[2],y[2])\n",
    "draw = SimplePolygon(center, 6, 2)\n",
    "draw.draw_self(ax, show= True)\n",
    "ax.plot()\n",
    "center = (x[3],y[3])\n",
    "draw = SimplePolygon(center, 6, 2)\n",
    "draw.draw_self(ax, show= True)\n",
    "ax.plot()\n",
    "center = (x[4],y[4])\n",
    "draw = SimplePolygon(center, 6, 2)\n",
    "draw.draw_self(ax, show= True)\n",
    "ax.plot()\n",
    "center = (x[5],y[5])\n",
    "draw = SimplePolygon(center, 6, 2)\n",
    "draw.draw_self(ax, show= True)\n",
    "ax.plot()\n",
    "\n",
    "\n",
    "for i in len(range(x)\n",
    "\n",
    "\n"
   ]
  },
  {
   "cell_type": "markdown",
   "id": "c159cf9a",
   "metadata": {
    "tags": []
   },
   "source": [
    "---\n",
    "### &#128721; STOP (1 point)\n",
    "**Pause to commit your changes to your Git repository!**\n",
    "\n",
    "Take a moment to save your notebook, commit  and push the changes to your Git repository.\n",
    "\n",
    "---"
   ]
  },
  {
   "cell_type": "markdown",
   "id": "868efbc9",
   "metadata": {
    "jp-MarkdownHeadingCollapsed": true,
    "tags": []
   },
   "source": [
    "## You're done! Congrats on finishing your CMSE 202 Midterm!\n",
    "\n",
    "Make sure all of your changes to your repository are committed and pushed to GitHub. Also upload a copy of this notebook to the dropbox on D2L in case something went wrong with your repository or if you couldn't get the repository to work."
   ]
  }
 ],
 "metadata": {
  "kernelspec": {
   "display_name": "Python 3 (ipykernel)",
   "language": "python",
   "name": "python3"
  },
  "language_info": {
   "codemirror_mode": {
    "name": "ipython",
    "version": 3
   },
   "file_extension": ".py",
   "mimetype": "text/x-python",
   "name": "python",
   "nbconvert_exporter": "python",
   "pygments_lexer": "ipython3",
   "version": "3.11.5"
  }
 },
 "nbformat": 4,
 "nbformat_minor": 5
}
